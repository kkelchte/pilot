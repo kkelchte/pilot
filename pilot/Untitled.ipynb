{
 "cells": [
  {
   "cell_type": "code",
   "execution_count": 1,
   "metadata": {},
   "outputs": [
    {
     "name": "stdout",
     "output_type": "stream",
     "text": [
      "['', '/users/visics/kkelchte/tensorflow_1.8/lib/python2.7/site-packages', '/esat/opal/kkelchte/docker_home/tensorflow/pilot/pilot', '/esat/opal/kkelchte/docker_home/tensorflow/tf_cnnvis', '/users/visics/kkelchte/tensorflow_1.8/lib/python27.zip', '/users/visics/kkelchte/tensorflow_1.8/lib64/python2.7', '/users/visics/kkelchte/tensorflow_1.8/lib64/python2.7/plat-linux2', '/users/visics/kkelchte/tensorflow_1.8/lib64/python2.7/lib-tk', '/users/visics/kkelchte/tensorflow_1.8/lib64/python2.7/lib-old', '/users/visics/kkelchte/tensorflow_1.8/lib64/python2.7/lib-dynload', '/usr/lib64/python2.7', '/usr/lib/python2.7', '/usr/lib64/python2.7/lib-tk', '/users/visics/kkelchte/tensorflow_1.8/lib/python2.7/site-packages/IPython/extensions', '/esat/opal/kkelchte/docker_home/.ipython']\n"
     ]
    }
   ],
   "source": [
    "import sys\n",
    "print sys.path"
   ]
  },
  {
   "cell_type": "code",
   "execution_count": 5,
   "metadata": {},
   "outputs": [],
   "source": [
    "import data\n",
    "import model\n",
    "import replay_buffer"
   ]
  },
  {
   "cell_type": "code",
   "execution_count": 8,
   "metadata": {},
   "outputs": [
    {
     "data": {
      "text/plain": [
       "'model.pyc'"
      ]
     },
     "execution_count": 8,
     "metadata": {},
     "output_type": "execute_result"
    }
   ],
   "source": [
    "model.__file__"
   ]
  }
 ],
 "metadata": {
  "kernelspec": {
   "display_name": "Python 2",
   "language": "python",
   "name": "python2"
  },
  "language_info": {
   "codemirror_mode": {
    "name": "ipython",
    "version": 2
   },
   "file_extension": ".py",
   "mimetype": "text/x-python",
   "name": "python",
   "nbconvert_exporter": "python",
   "pygments_lexer": "ipython2",
   "version": "2.7.15"
  }
 },
 "nbformat": 4,
 "nbformat_minor": 2
}
