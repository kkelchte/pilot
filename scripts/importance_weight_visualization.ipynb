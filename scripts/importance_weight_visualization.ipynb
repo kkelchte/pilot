{
 "cells": [
  {
   "cell_type": "code",
   "execution_count": 1,
   "metadata": {},
   "outputs": [
    {
     "name": "stderr",
     "output_type": "stream",
     "text": [
      "/esat/opal/kkelchte/docker_home/tensorflow/pytorch_pilot/pilot/tools.py:7: UserWarning: \n",
      "This call to matplotlib.use() has no effect because the backend has already\n",
      "been chosen; matplotlib.use() must be called *before* pylab, matplotlib.pyplot,\n",
      "or matplotlib.backends is imported for the first time.\n",
      "\n",
      "The backend was *originally* set to 'module://ipykernel.pylab.backend_inline' by the following code:\n",
      "  File \"/usr/lib64/python2.7/runpy.py\", line 174, in _run_module_as_main\n",
      "    \"__main__\", fname, loader, pkg_name)\n",
      "  File \"/usr/lib64/python2.7/runpy.py\", line 72, in _run_code\n",
      "    exec code in run_globals\n",
      "  File \"/users/visics/kkelchte/tensorflow_1.8/lib/python2.7/site-packages/ipykernel_launcher.py\", line 16, in <module>\n",
      "    app.launch_new_instance()\n",
      "  File \"/users/visics/kkelchte/tensorflow_1.8/lib/python2.7/site-packages/traitlets/config/application.py\", line 658, in launch_instance\n",
      "    app.start()\n",
      "  File \"/users/visics/kkelchte/tensorflow_1.8/lib/python2.7/site-packages/ipykernel/kernelapp.py\", line 497, in start\n",
      "    self.io_loop.start()\n",
      "  File \"/users/visics/kkelchte/tensorflow_1.8/lib/python2.7/site-packages/tornado/ioloop.py\", line 1073, in start\n",
      "    handler_func(fd_obj, events)\n",
      "  File \"/users/visics/kkelchte/tensorflow_1.8/lib/python2.7/site-packages/tornado/stack_context.py\", line 300, in null_wrapper\n",
      "    return fn(*args, **kwargs)\n",
      "  File \"/users/visics/kkelchte/tensorflow_1.8/lib/python2.7/site-packages/zmq/eventloop/zmqstream.py\", line 450, in _handle_events\n",
      "    self._handle_recv()\n",
      "  File \"/users/visics/kkelchte/tensorflow_1.8/lib/python2.7/site-packages/zmq/eventloop/zmqstream.py\", line 480, in _handle_recv\n",
      "    self._run_callback(callback, msg)\n",
      "  File \"/users/visics/kkelchte/tensorflow_1.8/lib/python2.7/site-packages/zmq/eventloop/zmqstream.py\", line 432, in _run_callback\n",
      "    callback(*args, **kwargs)\n",
      "  File \"/users/visics/kkelchte/tensorflow_1.8/lib/python2.7/site-packages/tornado/stack_context.py\", line 300, in null_wrapper\n",
      "    return fn(*args, **kwargs)\n",
      "  File \"/users/visics/kkelchte/tensorflow_1.8/lib/python2.7/site-packages/ipykernel/kernelbase.py\", line 283, in dispatcher\n",
      "    return self.dispatch_shell(stream, msg)\n",
      "  File \"/users/visics/kkelchte/tensorflow_1.8/lib/python2.7/site-packages/ipykernel/kernelbase.py\", line 233, in dispatch_shell\n",
      "    handler(stream, idents, msg)\n",
      "  File \"/users/visics/kkelchte/tensorflow_1.8/lib/python2.7/site-packages/ipykernel/kernelbase.py\", line 399, in execute_request\n",
      "    user_expressions, allow_stdin)\n",
      "  File \"/users/visics/kkelchte/tensorflow_1.8/lib/python2.7/site-packages/ipykernel/ipkernel.py\", line 208, in do_execute\n",
      "    res = shell.run_cell(code, store_history=store_history, silent=silent)\n",
      "  File \"/users/visics/kkelchte/tensorflow_1.8/lib/python2.7/site-packages/ipykernel/zmqshell.py\", line 537, in run_cell\n",
      "    return super(ZMQInteractiveShell, self).run_cell(*args, **kwargs)\n",
      "  File \"/users/visics/kkelchte/tensorflow_1.8/lib/python2.7/site-packages/IPython/core/interactiveshell.py\", line 2714, in run_cell\n",
      "    interactivity=interactivity, compiler=compiler, result=result)\n",
      "  File \"/users/visics/kkelchte/tensorflow_1.8/lib/python2.7/site-packages/IPython/core/interactiveshell.py\", line 2818, in run_ast_nodes\n",
      "    if self.run_code(code, result):\n",
      "  File \"/users/visics/kkelchte/tensorflow_1.8/lib/python2.7/site-packages/IPython/core/interactiveshell.py\", line 2878, in run_code\n",
      "    exec(code_obj, self.user_global_ns, self.user_ns)\n",
      "  File \"<ipython-input-1-89c4027cf695>\", line 4, in <module>\n",
      "    import matplotlib.pyplot as plt\n",
      "  File \"/users/visics/kkelchte/tensorflow_1.8/lib/python2.7/site-packages/matplotlib/pyplot.py\", line 71, in <module>\n",
      "    from matplotlib.backends import pylab_setup\n",
      "  File \"/users/visics/kkelchte/tensorflow_1.8/lib/python2.7/site-packages/matplotlib/backends/__init__.py\", line 16, in <module>\n",
      "    line for line in traceback.format_stack()\n",
      "\n",
      "\n",
      "  mpl.use('Agg')\n"
     ]
    }
   ],
   "source": [
    "import warnings\n",
    "warnings.filterwarnings(\"ignore\", message=\"numpy.dtype size changed\")\n",
    "warnings.filterwarnings(\"ignore\", message=\"numpy.ufunc size changed\")\n",
    "import matplotlib.pyplot as plt\n",
    "import numpy as np\n",
    "import sys, os, os.path\n",
    "import subprocess\n",
    "import shutil\n",
    "import time\n",
    "import signal\n",
    "import argparse\n",
    "import random\n",
    "import torch\n",
    "import torch.backends.cudnn as cudnn\n",
    "\n",
    "from model import Model\n",
    "import offline\n",
    "\n",
    "import tools\n",
    "import data"
   ]
  },
  {
   "cell_type": "code",
   "execution_count": 3,
   "metadata": {},
   "outputs": [
    {
     "name": "stdout",
     "output_type": "stream",
     "text": [
      "[main.py] Found 1 cuda devices available.\n"
     ]
    }
   ],
   "source": [
    "parser = argparse.ArgumentParser(description='Main pilot that can train or evaluate online or offline from a dataset.')\n",
    "  \n",
    "# ==========================\n",
    "#   Training Parameters\n",
    "# ==========================\n",
    "parser.add_argument(\"--testing\", action='store_true', help=\"In case we're only testing, the model is tested on the test.txt files and not trained.\")\n",
    "parser.add_argument(\"--learning_rate\", default=0.1, type=float, help=\"Start learning rate.\")\n",
    "parser.add_argument(\"--batch_size\",default=64,type=int,help=\"Define the size of minibatches.\")\n",
    "parser.add_argument(\"--clip\",default=10**4,type=float,help=\"Clip gradients to avoid 'nan' loss values.\")\n",
    "parser.add_argument(\"--max_episodes\",default=1000,type=int,help=\"The maximum number of episodes (~runs through all the training data.)\")\n",
    "parser.add_argument(\"--tensorboard\", action='store_true', help=\"Save logging in tensorboard.\")\n",
    "parser.add_argument(\"--create_scratch_checkpoint\", action='store_true', help=\"Dont train, just save checkpoint before starting and quit.\")\n",
    "\n",
    "# ==========================\n",
    "#   Lifelonglearning Parameters\n",
    "# ==========================\n",
    "parser.add_argument(\"--lifelonglearning\",action='store_true',help=\"In case there is a previous domain upon which the model was trained, use the lifelonglearning regularization to overcome forgetting.\")\n",
    "parser.add_argument(\"--update_importance_weights\",action='store_true',help=\"Update importance weights for all variables for this domain.\")\n",
    "parser.add_argument(\"--lll_weight\", default=1, type=float, help=\"Weight the lifelonglearning regularization term in the overall loss.\")\n",
    "parser.add_argument(\"--calculate_importance_weights\",action='store_true',help=\"Calculate the importance weights at the end of training and save them as pickled object.\")\n",
    "\n",
    "\n",
    "\n",
    "# ==========================\n",
    "#   Offline Parameters\n",
    "# ==========================\n",
    "parser.add_argument(\"--visualize_saliency_of_output\",action='store_true',help=\"Visualize saliency maps of the output.\")\n",
    "parser.add_argument(\"--visualize_deep_dream_of_output\",action='store_true',help=\"Visualize gradient ascent maps for different extreme controls.\")\n",
    "parser.add_argument(\"--visualize_activations\",action='store_true',help=\"Visualize activation.\")\n",
    "parser.add_argument(\"--visualize_control_activation_maps\",action='store_true',help=\"Visualize control activation map.\")\n",
    "parser.add_argument(\"--histogram_of_activations\",action='store_true',help=\"Summarize all activations in a histogram.\")\n",
    "parser.add_argument(\"--histogram_of_weights\",action='store_true',help=\"Summarize all weights in a histogram.\")\n",
    "\n",
    "# ===========================\n",
    "#   Utility Parameters\n",
    "# ===========================\n",
    "# Print output of ros verbose or not\n",
    "parser.add_argument(\"--load_config\", action='store_true',help=\"Load flags from the configuration file found in the checkpoint path.\")\n",
    "parser.add_argument(\"--verbose\", action='store_false', help=\"Print output of ros verbose or not.\")\n",
    "parser.add_argument(\"--summary_dir\", default='tensorflow/log/', type=str, help=\"Choose the directory to which tensorflow should save the summaries.\")\n",
    "parser.add_argument(\"-t\",\"--log_tag\", default='testing', type=str, help=\"Add log_tag to overcome overwriting of other log files.\")\n",
    "parser.add_argument(\"--device\", default='gpu', type=str, help= \"Choose to run on gpu or cpu: /cpu:0 or /gpu:0\")\n",
    "parser.add_argument(\"--random_seed\", default=123, type=int, help=\"Set the random seed to get similar examples.\")\n",
    "parser.add_argument(\"--owr\", action='store_true', help=\"Overwrite existing logfolder when it is not testing.\")\n",
    "parser.add_argument(\"--action_bound\", default=1.0, type=float, help= \"Define between what bounds the actions can go. Default: [-1:1].\")\n",
    "parser.add_argument(\"--action_dim\", default=1.0, type=float, help= \"Define the dimension of the actions: 1dimensional as it only turns in yaw.\")\n",
    "parser.add_argument(\"--real\", action='store_true', help=\"Define settings in case of interacting with the real (bebop) drone.\")\n",
    "parser.add_argument(\"--evaluate\", action='store_true', help=\"Just evaluate the network without training.\")\n",
    "parser.add_argument(\"--random_learning_rate\", action='store_true', help=\"Use sampled learning rate from UL(10**-2, 1)\")\n",
    "parser.add_argument(\"--plot_depth\", action='store_true', help=\"Specify whether the depth predictions is saved as images.\")\n",
    "\n",
    "# ===========================\n",
    "#   Data Parameters\n",
    "# ===========================\n",
    "# parser.add_argument(\"--hdf5\", action='store_true', help=\"Define wether dataset is hdf5 type.\")\n",
    "parser.add_argument(\"--load_data_in_ram\", action='store_true', help=\"Define wether the dataset is preloaded into RAM.\")\n",
    "parser.add_argument(\"--dataset\", default=\"esatv3_expert_500\", type=str, help=\"pick the dataset in data_root from which your movies can be found.\")\n",
    "parser.add_argument(\"--data_root\", default=\"pilot_data/\",type=str, help=\"Define the root folder of the different datasets.\")\n",
    "parser.add_argument(\"--num_threads\", default=4, type=int, help=\"The number of threads for loading one minibatch.\")\n",
    "parser.add_argument(\"--control_file\", default='control_info.txt', type=str, help=\"Define the name of the file with the action labels.\")\n",
    "parser.add_argument(\"--depth_directory\", default='Depth', type=str, help=\"Define the name of the directory containing the depth images: Depth or Depth_predicted.\")\n",
    "parser.add_argument(\"--subsample\", default=1, type=int, help=\"Subsample data over time: e.g. subsample 2 to get from 20fps to 10fps.\")\n",
    "parser.add_argument(\"--normalized_output\", action='store_true', help=\"Try to fill a batch with different actions [-1, 0, 1].\")\n",
    "parser.add_argument(\"--shifted_input\", action='store_true', help=\"Shift data from range 0,1 to -0.5,0.5\")\n",
    "parser.add_argument(\"--scaled_input\", action='store_true', help=\"Scale the input to 0 mean and 1 std.\")\n",
    "parser.add_argument('--scale_means', default=[0.42, 0.46, 0.5],nargs='+', help=\"Means used for scaling the input around 0\")\n",
    "parser.add_argument('--scale_stds', default=[0.218, 0.239, 0.2575],nargs='+', help=\"Stds used for scaling the input around 0\")\n",
    "parser.add_argument(\"--time_length\", default=10, type=int, help=\"In case of LSTM network, how long in time is network unrolled for training.\")\n",
    "parser.add_argument(\"--sliding_tbptt\", action='store_true', help=\"In case of LSTM network, slide over batches of data rather than sample randomly.\")\n",
    "parser.add_argument(\"--sliding_step_size\", default=1, type=int, help=\"In case of LSTM network and sliding_tbptt, define the time steps between two consecutive training batches.\")\n",
    "\n",
    "\n",
    "# ===========================\n",
    "#   Model Parameters\n",
    "# ===========================\n",
    "parser.add_argument(\"--depth_multiplier\",default=0.25,type=float, help= \"Define the depth of the network in case of mobilenet.\")\n",
    "parser.add_argument(\"--network\",default='tiny_net',type=str, help=\"Define the type of network: mobile, mobile_nfc, alex, squeeze, ...\")\n",
    "# parser.add_argument(\"--output_size\",default=[55,74],type=int, nargs=2, help=\"Define the output size of the depth frame: 55x74 [drone], 1x26 [turtle], only used in case of depth_q_net.\")\n",
    "parser.add_argument(\"--pretrained\", action='store_true',help=\"Specify whether the network should be loaded with imagenet pretrained features.\")\n",
    "# parser.add_argument(\"--n_fc\", action='store_true',help=\"In case of True, prelogit features are concatenated before feeding to the fully connected layers.\")\n",
    "parser.add_argument(\"--n_frames\",default=5,type=int,help=\"Specify the amount of frames concatenated in case of n_fc like mobile_nfc.\")\n",
    "parser.add_argument(\"--auxiliary_depth\", action='store_true',help=\"Specify whether a depth map is predicted.\")\n",
    "parser.add_argument(\"--discrete\", action='store_true',help=\"Specify whether the output action space is discrete.\")\n",
    "parser.add_argument(\"--action_quantity\",default=3, type=int, help=\"Define the number of actions in the output layer.\")\n",
    "\n",
    "# INITIALIZATION\n",
    "parser.add_argument(\"--checkpoint_path\",default='', type=str, help=\"Specify the directory of the checkpoint of the earlier trained model.\")\n",
    "parser.add_argument(\"--continue_training\",action='store_true', help=\"Continue training of the prediction layers. If false, initialize the prediction layers randomly.\")\n",
    "# parser.add_argument(\"--scratch\", action='store_true', help=\"Initialize full network randomly.\")\n",
    "\n",
    "# TRAINING\n",
    "\n",
    "parser.add_argument(\"--il_weight\", default=1.0, type=float, help=\"Define the weight of the Imitation Learning Loss in comparison to the Reinforcement Learning Loss.\")\n",
    "parser.add_argument(\"--depth_weight\", default=1.0, type=float, help=\"Define the weight applied to the depth values in the loss relative to the control loss.\")\n",
    "parser.add_argument(\"--control_weight\", default=1.0, type=float, help=\"Define the weight applied to the control loss.\")\n",
    "parser.add_argument(\"--weight_decay\",default=0.00004,type=float, help= \"Weight decay of inception network\")\n",
    "parser.add_argument(\"--init_scale\", default=0.0005, type=float, help= \"Std of uniform initialization\")\n",
    "parser.add_argument(\"--grad_mul_weight\", default=0.001, type=float, help=\"Specify the amount the gradients of prediction layers.\")\n",
    "parser.add_argument(\"--dropout\", default=0.5, type=float, help=\"Specify the probability of dropout to keep the activation.\")\n",
    "# parser.add_argument(\"--hidden_size\", default=100, type=float, help=\"Specify the probability of dropout to keep the activation.\")\n",
    "\n",
    "parser.add_argument(\"--min_depth\", default=0.0, type=float, help=\"clip depth loss with weigths to focus on correct depth range.\")\n",
    "parser.add_argument(\"--max_depth\", default=5.0, type=float, help=\"clip depth loss with weigths to focus on correct depth range.\")\n",
    "parser.add_argument(\"--optimizer\", default='SGD', type=str, help=\"Specify optimizer, options: Adadelta, SGD\")\n",
    "parser.add_argument(\"--no_batchnorm_learning\",action='store_false', help=\"In case of no batchnorm learning, are the batch normalization params (alphas and betas) not further adjusted.\")\n",
    "parser.add_argument(\"--initializer\",default='xavier',type=str, help=\"Define the initializer: xavier or uniform [-init_scale, init_scale]\")\n",
    "\n",
    "parser.add_argument(\"--loss\",default='MSE',type=str, help=\"Define the loss: MSE, CrossEntropy\")\n",
    "\n",
    "# parser.add_argument(\"--max_loss\", default=100, type=float, help= \"Define the maximum loss before it is clipped.\")\n",
    "# parser.add_argument(\"--clip_loss_to_max\",action='store_true', help=\"Over time, allow only smaller losses by clipping the maximum allowed loss to the lowest maximum loss.\")\n",
    "\n",
    "# ===========================\n",
    "#   Replay Parameters\n",
    "# ===========================\n",
    "\n",
    "parser.add_argument(\"--replay_priority\", default='no', type=str, help=\"Define which type of weights should be used when sampling from replay buffer: no, uniform_action, uniform_collision, td_error, state/action/target_variance, random_action\")\n",
    "parser.add_argument(\"--prioritized_keeping\", action='store_true', help=\"In case of True, the replay buffer only keeps replay data that is most likely to be sampled.\")\n",
    "parser.add_argument(\"--hard_replay_buffer\", action='store_true', help=\"Add a replaybuffer with the hardest examples (according to the loss).\")\n",
    "parser.add_argument(\"--hard_batch_size\", default=100, type=int, help=\"Define the amount of data in one batch coming from a hard replay buffer.\")\n",
    "\n",
    "# ===========================\n",
    "#   Rosinterface Parameters\n",
    "# ===========================\n",
    "parser.add_argument(\"--online\", action='store_true', help=\"Training/evaluating online in simulation.\")\n",
    "parser.add_argument(\"--buffer_size\", default=1000, type=int, help=\"Define the number of experiences saved in the buffer.\")\n",
    "parser.add_argument(\"--ou_theta\", default=0.05, type=float, help= \"Theta is the pull back force of the OU Noise.\")\n",
    "parser.add_argument(\"--noise\", default='ou', type=str, help=\"Define whether the noise is temporally correlated (ou) or uniformly distributed (uni).\")\n",
    "parser.add_argument(\"--sigma_z\", default=0.0, type=float, help= \"sigma_z is the amount of noise in the z direction.\")\n",
    "parser.add_argument(\"--sigma_x\", default=0.0, type=float, help= \"sigma_x is the amount of noise in the forward speed.\")\n",
    "parser.add_argument(\"--sigma_y\", default=0.0, type=float, help= \"sigma_y is the amount of noise in the y direction.\")\n",
    "parser.add_argument(\"--sigma_yaw\", default=0.0, type=float, help= \"sigma_yaw is the amount of noise added to the steering angle.\")\n",
    "parser.add_argument(\"--speed\", default=1.3, type=float, help= \"Define the forward speed of the quadrotor.\")\n",
    "parser.add_argument(\"--turn_speed\", default=0.5, type=float, help= \"Define the forward speed while turning.\")\n",
    "parser.add_argument(\"--alpha\",default=0., type=float, help=\"Policy mixing: choose with a binomial probability of alpha for the experts policy instead of the DNN policy..\")\n",
    "parser.add_argument(\"--epsilon\",default=0, type=float, help=\"Apply epsilon-greedy policy for exploration.\")\n",
    "parser.add_argument(\"--epsilon_decay\", default=0.0, type=float, help=\"Decay the epsilon exploration over time with a slow decay rate of 1/10.\")\n",
    "parser.add_argument(\"--prefill\", action='store_true', help=\"Fill the replay buffer first with random (epsilon 1) flying behavior before training.\")\n",
    "parser.add_argument(\"--gradient_steps\", default=1, type=int, help=\"Define the number of batches or gradient steps are taken between 2 runs.\")\n",
    "# parser.add_argument(\"--empty_buffer\", action='store_true', help=\"Empty buffer after each rollout.\")\n",
    "parser.add_argument(\"--buffer_update_rule\", default='nothing',type=str, help=\"nothing: FIFO buffer. empty: empty buffer after each training step. TODO: hard: drop certain partition of recent frames and keep only hardest.\")\n",
    "parser.add_argument(\"--buffer_hard_ratio\", default=1,type=float, help=\"if buffer_update_rule == hard, arange this ratio of the buffer's samples according to how hard they are and drop the rest, to be filled with recent frames.\")\n",
    "\n",
    "parser.add_argument(\"--max_batch_size\", default=-1, type=int, help=\"Define the max size of the batch (only if batch_size is -1).\")\n",
    "parser.add_argument(\"--recovery_compensation\", default=1, type=float, help=\"Define amount the neural network should compensate for the to-be-recovered movement.\")\n",
    "\n",
    "# parser.add_argument(\"--dont_show_depth\",action='store_true', help=\"Publish the predicted horizontal depth array to topic ./depth_prection so show_depth can visualize this in another node.\")\n",
    "\n",
    "parser.add_argument(\"--field_of_view\", default=104, type=int, help=\"The field of view of the camera cuts the depth scan in the range visible for the camera. Value should be even. Normal: 72 (-36:36), Wide-Angle: 120 (-60:60)\")\n",
    "parser.add_argument(\"--smooth_scan\", default=4, type=int, help=\"The 360degrees scan has a lot of noise and is therefore smoothed out over 4 neighboring scan readings\")\n",
    "\n",
    "parser.add_argument(\"--pause_simulator\", action='store_true', help=\"Pause simulator during frame processing, making discrete steps.\")\n",
    "parser.add_argument(\"--export_buffer\", action='store_true', help=\"Save the replaybuffer as dataset after each run.\")\n",
    "parser.add_argument(\"--no_training\", action='store_true', help=\"avoid saving to the replay buffer and taking gradient steps.\")\n",
    "\n",
    "parser.add_argument(\"--horizon\", default=0, type=int, help=\"Define the number steps back before collision, the collision label is applied to. \")\n",
    "parser.add_argument(\"--save_every_num_epochs\", default=1000, type=int, help=\"Define after how many epochs a model should be saved while training online.\")\n",
    "\n",
    "print(\"[main.py] Found {0} cuda devices available.\".format(torch.cuda.device_count()))\n",
    "\n",
    "try:\n",
    "    FLAGS, others = parser.parse_known_args()\n",
    "except:\n",
    "  pass"
   ]
  },
  {
   "cell_type": "code",
   "execution_count": 21,
   "metadata": {},
   "outputs": [],
   "source": [
    "# Settings: Adjust FLAGS namespace for any specific network\n",
    "FLAGS.discrete=True\n",
    "FLAGS.network='alex_net'\n",
    "FLAGS.checkpoint_path='/esat/opal/kkelchte/docker_home/tensorflow/log/alex_net/esatv3_expert_20K/01/seed_0'\n",
    "FLAGS.continue_training=True\n",
    "FLAGS.loss='CrossEntropy'"
   ]
  },
  {
   "cell_type": "code",
   "execution_count": 22,
   "metadata": {},
   "outputs": [
    {
     "name": "stdout",
     "output_type": "stream",
     "text": [
      "[model.py]: Divided 3 discrete actions over [-1.0, 0.0, 1.0] with boundaries [-0.5, 0.5].\n",
      "[model] Total number of trainable parameters: 57016131\n",
      "[model]: loaded model from /esat/opal/kkelchte/docker_home/tensorflow/log/alex_net/esatv3_expert_20K/01/seed_0 at epoch: 10000\n",
      "[model]: loaded optimizer parameters from /esat/opal/kkelchte/docker_home/tensorflow/log/alex_net/esatv3_expert_20K/01/seed_0\n"
     ]
    }
   ],
   "source": [
    "model=Model(FLAGS)"
   ]
  },
  {
   "cell_type": "code",
   "execution_count": 24,
   "metadata": {},
   "outputs": [
    {
     "name": "stdout",
     "output_type": "stream",
     "text": [
      "[data] 00000_esatv3_500\n",
      "[data] 00003_esatv3\n",
      "[data] 00001_esatv3\n"
     ]
    }
   ],
   "source": [
    "data.prepare_data(FLAGS, model.input_size)"
   ]
  },
  {
   "cell_type": "code",
   "execution_count": 25,
   "metadata": {},
   "outputs": [
    {
     "name": "stdout",
     "output_type": "stream",
     "text": [
      "[tools] calculate_importance_weights duration 127.288982153\n"
     ]
    }
   ],
   "source": [
    "importance_weights=tools.calculate_importance_weights(model, data.get_all_inputs('train'), level='neuron')"
   ]
  },
  {
   "cell_type": "code",
   "execution_count": 40,
   "metadata": {},
   "outputs": [
    {
     "name": "stdout",
     "output_type": "stream",
     "text": [
      "16\n"
     ]
    }
   ],
   "source": [
    "print(len(importance_weights))"
   ]
  },
  {
   "cell_type": "code",
   "execution_count": 66,
   "metadata": {},
   "outputs": [
    {
     "data": {
      "image/png": "[encoded data removed]",
      "text/plain": [
       "<Figure size 432x288 with 1 Axes>"
      ]
     },
     "metadata": {
      "needs_background": "light"
     },
     "output_type": "display_data"
    }
   ],
   "source": [
    "# plot for each layer the percentage of zero weights ~ 'free space'\n",
    "freespace=[]\n",
    "occupied=[]\n",
    "for index, iw in enumerate(importance_weights):\n",
    "    # ignore the biases\n",
    "    if len(iw.shape)==1: continue\n",
    "    iw=iw.flatten()\n",
    "    assert(len(iw[iw==0])+len(iw[iw!=0])==len(iw))\n",
    "    freespace.append(float(len(iw[iw==0]))/len(iw))\n",
    "    occupied.append(float(len(iw[iw!=0]))/len(iw))\n",
    "\n",
    "    \n",
    "plt.bar(range(len(occupied)),100)\n",
    "plt.bar(range(len(occupied)),[o*100 for o in occupied])\n",
    "for i,v in enumerate(occupied):\n",
    "    plt.text(i-0.25, 5, \"{0:d}%\".format(int(v*100)))\n",
    "\n",
    "plt.xlabel('Layers')\n",
    "plt.ylabel('Proportion')\n",
    "plt.tight_layout()\n",
    "plt.show()"
   ]
  },
  {
   "cell_type": "code",
   "execution_count": 54,
   "metadata": {
    "scrolled": false
   },
   "outputs": [
    {
     "name": "stdout",
     "output_type": "stream",
     "text": [
      "num_layers: 8\n"
     ]
    },
    {
     "data": {
      "image/png": "[encoded data removed]",
      "text/plain": [
       "<Figure size 360x1728 with 8 Axes>"
      ]
     },
     "metadata": {
      "needs_background": "light"
     },
     "output_type": "display_data"
    }
   ],
   "source": [
    "# histogram for each layer\n",
    "num_layers=sum([1 for iw in importance_weights if len(iw.shape) > 1])\n",
    "print 'num_layers:',num_layers\n",
    "f, axes = plt.subplots(num_layers, 1, figsize=(5,3*num_layers), sharex=True)\n",
    "index=0\n",
    "for iw in importance_weights:\n",
    "    if len(iw.shape)==1: continue\n",
    "    axes[index].set_title('Layer {0}'.format(index))\n",
    "    axes[index].hist(iw.flatten(), bins=50)\n",
    "    index+=1\n",
    "plt.show()"
   ]
  },
  {
   "cell_type": "code",
   "execution_count": 6,
   "metadata": {},
   "outputs": [],
   "source": []
  },
  {
   "cell_type": "code",
   "execution_count": null,
   "metadata": {},
   "outputs": [],
   "source": [
    "\n"
   ]
  }
 ],
 "metadata": {
  "kernelspec": {
   "display_name": "Python 2",
   "language": "python",
   "name": "python2"
  },
  "language_info": {
   "codemirror_mode": {
    "name": "ipython",
    "version": 2
   },
   "file_extension": ".py",
   "mimetype": "text/x-python",
   "name": "python",
   "nbconvert_exporter": "python",
   "pygments_lexer": "ipython2",
   "version": "2.7.15"
  }
 },
 "nbformat": 4,
 "nbformat_minor": 2
}
