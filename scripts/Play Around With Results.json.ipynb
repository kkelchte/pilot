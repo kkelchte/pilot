{
 "cells": [
  {
   "cell_type": "code",
   "execution_count": 30,
   "metadata": {},
   "outputs": [
    {
     "name": "stdout",
     "output_type": "stream",
     "text": [
      "[u'0_eva', u'1_eva', u'forest']\n",
      "[u'Distance_current', u'Distance_furthest', u'control_delay_std', u'control_rate', u'driving_duration', u'host', u'image_delay_std', u'image_rate', u'imitation_loss', u'run_img', u'run_index', u'success']\n"
     ]
    }
   ],
   "source": [
    "import matplotlib.pyplot as plt\n",
    "import numpy as np\n",
    "import os, sys, time\n",
    "import json\n",
    "summarize_dir='/esat/opal/kkelchte/docker_home/tensorflow/log/'\n",
    "mother_dir='forest_drone_scratch'\n",
    "if not os.path.isfile(summarize_dir+mother_dir+'/results.json'):\n",
    "    print \"Could not find results.json in \",mother_dir, os.listdir(summarize_dir+mother_dir)\n",
    "else:\n",
    "    results=json.load(open(summarize_dir+mother_dir+'/results.json'))\n",
    "    print sorted(results.keys())    \n",
    "    print sorted(results[results.keys()[-1]].keys())"
   ]
  },
  {
   "cell_type": "code",
   "execution_count": 31,
   "metadata": {},
   "outputs": [
    {
     "name": "stdout",
     "output_type": "stream",
     "text": [
      "mean:  1.0  std:  0.0\n"
     ]
    }
   ],
   "source": [
    "# results['0_eva'].keys()\n",
    "print \"mean: \",np.mean(results['forest']['success']),\" std: \",np.std(results['forest']['success'])"
   ]
  }
 ],
 "metadata": {
  "kernelspec": {
   "display_name": "Python 2",
   "language": "python",
   "name": "python2"
  },
  "language_info": {
   "codemirror_mode": {
    "name": "ipython",
    "version": 2
   },
   "file_extension": ".py",
   "mimetype": "text/x-python",
   "name": "python",
   "nbconvert_exporter": "python",
   "pygments_lexer": "ipython2",
   "version": "2.7.15"
  }
 },
 "nbformat": 4,
 "nbformat_minor": 2
}
