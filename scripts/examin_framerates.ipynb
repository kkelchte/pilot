{
 "cells": [
  {
   "cell_type": "code",
   "execution_count": 1,
   "metadata": {},
   "outputs": [],
   "source": [
    "import numpy as np\n",
    "import os,sys,time\n",
    "import matplotlib.pyplot as plt"
   ]
  },
  {
   "cell_type": "code",
   "execution_count": 144,
   "metadata": {},
   "outputs": [
    {
     "name": "stdout",
     "output_type": "stream",
     "text": [
      "log_dirs: \n",
      "/esat/opal/kkelchte/docker_home/tensorflow/log/rec_1\n",
      "/esat/opal/kkelchte/docker_home/tensorflow/log/rec_10\n",
      "/esat/opal/kkelchte/docker_home/tensorflow/log/rec_2\n",
      "/esat/opal/kkelchte/docker_home/tensorflow/log/rec_3\n",
      "/esat/opal/kkelchte/docker_home/tensorflow/log/rec_4\n",
      "/esat/opal/kkelchte/docker_home/tensorflow/log/rec_5\n",
      "/esat/opal/kkelchte/docker_home/tensorflow/log/rec_6\n",
      "/esat/opal/kkelchte/docker_home/tensorflow/log/rec_7\n",
      "/esat/opal/kkelchte/docker_home/tensorflow/log/rec_8\n",
      "/esat/opal/kkelchte/docker_home/tensorflow/log/rec_9\n",
      "data_dirs: \n",
      "/esat/opal/kkelchte/docker_home/pilot_data/rec_1\n",
      "/esat/opal/kkelchte/docker_home/pilot_data/rec_10\n",
      "/esat/opal/kkelchte/docker_home/pilot_data/rec_2\n",
      "/esat/opal/kkelchte/docker_home/pilot_data/rec_3\n",
      "/esat/opal/kkelchte/docker_home/pilot_data/rec_4\n",
      "/esat/opal/kkelchte/docker_home/pilot_data/rec_5\n",
      "/esat/opal/kkelchte/docker_home/pilot_data/rec_6\n",
      "/esat/opal/kkelchte/docker_home/pilot_data/rec_7\n",
      "/esat/opal/kkelchte/docker_home/pilot_data/rec_8\n",
      "/esat/opal/kkelchte/docker_home/pilot_data/rec_9\n"
     ]
    }
   ],
   "source": [
    "root_dir='/esat/opal/kkelchte/docker_home/tensorflow/log'\n",
    "data_dir='/esat/opal/kkelchte/docker_home/pilot_data'\n",
    "log_dirs=sorted([root_dir+'/'+d for d in os.listdir(root_dir) if d.startswith('rec_') and not '_10_' in d])\n",
    "data_dirs=sorted([data_dir+'/'+d for d in os.listdir(data_dir) if d.startswith('rec_') and not '_10_' in d])\n",
    "\n",
    "log_dirs=[l for dd in data_dirs for l in log_dirs if os.path.basename(l) in dd ]\n",
    "log_dirs = log_dirs[1:]\n",
    "print \"log_dirs: \"\n",
    "for ld in log_dirs: print ld\n",
    "print \"data_dirs: \"\n",
    "for dd in data_dirs: print dd\n",
    "\n",
    "assert len(log_dirs) == len(data_dirs)"
   ]
  },
  {
   "cell_type": "code",
   "execution_count": 125,
   "metadata": {
    "scrolled": true
   },
   "outputs": [
    {
     "name": "stdout",
     "output_type": "stream",
     "text": [
      "rec_10_1\n",
      "quartz\n",
      "rec_10_2\n",
      "pyrite\n",
      "rec_10_3\n",
      "topaz\n",
      "rec_10_4\n",
      "realgar\n",
      "rec_10_7\n",
      "wulfenite\n",
      "rec_10_8\n",
      "asahi\n"
     ]
    }
   ],
   "source": [
    "# extract frame rates for each run of each log dir\n",
    "results={}\n",
    "for index,dd in enumerate(data_dirs):\n",
    "    print os.path.basename(dd)\n",
    "    # extract hosts:\n",
    "    import subprocess, shlex\n",
    "    log_files=[log_dirs[index]+'/condor/'+f for f in os.listdir(log_dirs[index]+'/condor/') if f.endswith('log')]\n",
    "    host_list=[l.split(' ')[8].split(':')[0][1:] for l in open(log_files[0],'r').readlines() if 'executing on host' in l]\n",
    "    host_names=[]\n",
    "    for host in host_list: host_names.append(subprocess.check_output(shlex.split('host '+host)).split(' ')[4].split('.')[0])\n",
    "    for h in host_names: print h\n",
    "    image_files=sorted([dd+'/'+d+'/images.txt' for d in os.listdir(dd) if os.path.isdir(dd+'/'+d) and d.startswith('0')])\n",
    "    mean={'canyon':[],'forest':[],'sandbox':[],'total':[]}\n",
    "    var={'canyon':[],'forest':[],'sandbox':[],'total':[]}\n",
    "    for i_f in image_files:\n",
    "        try:\n",
    "            # i_f=image_files[0]\n",
    "#             print(i_f)\n",
    "            time_stamps= [ float(l.split(' ')[0].split(':')[0][:-1])+float(l.split(' ')[0].split(':')[1][:-2])*10**-9 for l in open(i_f,'r').readlines() if 'RGB' in l]\n",
    "            frame_rates = [1/(time_stamps[i+1]-time_stamps[i]+0.01) if time_stamps[i] != time_stamps[i+1] else np.nan for i in range(len(time_stamps)-1)]\n",
    "            if 'canyon' in i_f:\n",
    "                mean['canyon'].append(np.nanmean(frame_rates))\n",
    "                var['canyon'].append(np.nanvar(frame_rates))\n",
    "            elif 'sandbox' in i_f:\n",
    "                mean['sandbox'].append(np.nanmean(frame_rates))\n",
    "                var['sandbox'].append(np.nanvar(frame_rates))\n",
    "            elif 'forest' in i_f:\n",
    "                mean['forest'].append(np.nanmean(frame_rates))\n",
    "                var['forest'].append(np.nanvar(frame_rates))\n",
    "            mean['total'].append(np.nanmean(frame_rates))\n",
    "            var['total'].append(np.nanvar(frame_rates))\n",
    "#             plt.subplot(1,2,1)\n",
    "#             plt.hist(frame_rates)\n",
    "#             plt.subplot(1,2,2)\n",
    "#             plt.plot(frame_rates)\n",
    "#             plt.show()\n",
    "        except:\n",
    "            pass\n",
    "    results[os.path.basename(dd)]={'machines': host_names, 'mean':mean, 'var': var}"
   ]
  },
  {
   "cell_type": "code",
   "execution_count": 127,
   "metadata": {
    "scrolled": false
   },
   "outputs": [
    {
     "name": "stdout",
     "output_type": "stream",
     "text": [
      " | quartz  | pyrite  | topaz  | realgar  | wulfenite  | asahi  | \n",
      "canyon  | 9.20 (1.13)  | 9.18 (0.84)  | 9.21 (1.51)  | 9.20 (1.27)  | 9.17 (0.81)  | 9.16 (0.68)  | \n",
      "forest  | 9.23 (1.47)  | 9.21 (1.25)  | 9.24 (1.67)  | 9.25 (2.24)  | 9.19 (1.11)  | 9.19 (1.17)  | \n",
      "sandbox  | 9.47 (5.00)  | 9.44 (4.58)  | 9.48 (5.15)  | 9.46 (4.65)  | 9.50 (5.46)  | 9.54 (5.99)  | \n",
      "total  | 9.30 (2.53)  | 9.28 (2.22)  | 9.31 (2.77)  | 9.30 (2.72)  | 9.29 (2.45)  | 9.30 (2.61)  | \n"
     ]
    }
   ],
   "source": [
    "# Print results in md table format\n",
    "msg=\"\"\n",
    "for r in sorted(results.keys()):\n",
    "#     print r\n",
    "    msg=\"{0} | {1} \".format(msg, results[r]['machines'][0])\n",
    "print msg,\"| \"\n",
    "for w in \"canyon\", \"forest\", \"sandbox\", \"total\":\n",
    "    msg=w+\" \"\n",
    "    for r in sorted(results.keys()):\n",
    "    #     print r\n",
    "        msg=\"{0} | {1:0.2f} ({2:0.2f}) \".format(msg, np.nanmean(results[r]['mean'][w]), np.nanmean(results[r]['var'][w]))\n",
    "    print msg,\"| \"\n"
   ]
  },
  {
   "cell_type": "code",
   "execution_count": 128,
   "metadata": {
    "scrolled": false
   },
   "outputs": [
    {
     "data": {
      "image/png": "[encoded data removed]",
      "text/plain": [
       "<Figure size 1080x1440 with 2 Axes>"
      ]
     },
     "metadata": {},
     "output_type": "display_data"
    },
    {
     "data": {
      "image/png": "[encoded data removed]",
      "text/plain": [
       "<Figure size 1080x1440 with 2 Axes>"
      ]
     },
     "metadata": {},
     "output_type": "display_data"
    },
    {
     "data": {
      "image/png": "[encoded data removed]",
      "text/plain": [
       "<Figure size 1080x1440 with 2 Axes>"
      ]
     },
     "metadata": {},
     "output_type": "display_data"
    },
    {
     "data": {
      "image/png": "[encoded data removed]",
      "text/plain": [
       "<Figure size 1080x1440 with 2 Axes>"
      ]
     },
     "metadata": {},
     "output_type": "display_data"
    }
   ],
   "source": [
    "for i,w in enumerate([\"canyon\", \"forest\", \"sandbox\", \"total\"]):\n",
    "    plt.figure(figsize=(15,20))\n",
    "    plt.subplot(8,2,i*2+1)\n",
    "    plt.ylim=(0,40)\n",
    "    plt.bar([results[r]['machines'][0] for r in sorted(results.keys())],\n",
    "           [np.mean(results[r]['mean'][w]) for r in sorted(results.keys())])\n",
    "    plt.subplot(8,2,i*2+2)\n",
    "    plt.ylim=(0,500)\n",
    "    plt.bar([results[r]['machines'][0] for r in sorted(results.keys())],\n",
    "           [np.mean(results[r]['var'][w]) for r in sorted(results.keys())])\n",
    "    \n",
    "\n",
    "plt.show()"
   ]
  },
  {
   "cell_type": "code",
   "execution_count": 145,
   "metadata": {},
   "outputs": [
    {
     "name": "stdout",
     "output_type": "stream",
     "text": [
      "rec_1\n",
      "yildun\n",
      "rec_10\n",
      "garnet\n",
      "rec_2\n",
      "matar\n",
      "rec_3\n",
      "sadr\n",
      "rec_4\n",
      "oculus\n",
      "rec_5\n",
      "kunzite\n",
      "rec_6\n",
      "emerald\n",
      "rec_7\n",
      "jade\n",
      "rec_8\n",
      "amethyst\n",
      "rec_9\n",
      "iolite\n"
     ]
    }
   ],
   "source": [
    "results={}\n",
    "# Extract frame rate by counting the average number of images saved for each environment\n",
    "for index,dd in enumerate(data_dirs):\n",
    "    print os.path.basename(dd)\n",
    "    # extract hosts:\n",
    "    import subprocess, shlex\n",
    "    log_files=[log_dirs[index]+'/condor/'+f for f in os.listdir(log_dirs[index]+'/condor/') if f.endswith('log')]\n",
    "    host_list=[l.split(' ')[8].split(':')[0][1:] for l in open(log_files[0],'r').readlines() if 'executing on host' in l]\n",
    "    host_names=[]\n",
    "    for host in host_list: host_names.append(subprocess.check_output(shlex.split('host '+host)).split(' ')[4].split('.')[0])\n",
    "    for h in host_names: print h\n",
    "    mean={'canyon':[],'forest':[],'sandbox':[]}\n",
    "#     duration={'canyon':[],'forest':[],'sandbox':[]}\n",
    "    run_dirs=[dd+'/'+rd for rd in os.listdir(dd) if rd.startswith('0')]\n",
    "    for rd in run_dirs:\n",
    "        try:\n",
    "            begin=os.path.getmtime(rd+'/RGB/'+sorted(os.listdir(rd+'/RGB'))[0])\n",
    "            end=os.path.getmtime(rd+'/RGB/'+sorted(os.listdir(rd+'/RGB'))[-1])\n",
    "            if 'canyon' in rd:\n",
    "                mean['canyon'].append(len(os.listdir(rd+'/RGB'))/(end-begin))\n",
    "#                 duration['canyon'].append(end-begin)\n",
    "            elif 'sandbox' in rd:\n",
    "                mean['sandbox'].append(len(os.listdir(rd+'/RGB'))/(end-begin))\n",
    "#                 duration['sandbox'].append(end-begin)\n",
    "            elif 'forest' in rd:\n",
    "                mean['forest'].append(len(os.listdir(rd+'/RGB'))/(end-begin))\n",
    "#                 duration['forest'].append(end-begin)\n",
    "        except:\n",
    "            pass\n",
    "    results[os.path.basename(dd)]={'machines': host_names, 'mean':mean}"
   ]
  },
  {
   "cell_type": "code",
   "execution_count": null,
   "metadata": {},
   "outputs": [],
   "source": []
  },
  {
   "cell_type": "code",
   "execution_count": 146,
   "metadata": {},
   "outputs": [
    {
     "name": "stdout",
     "output_type": "stream",
     "text": [
      "|  | yildun  | garnet  | matar  | sadr  | oculus  | kunzite  | emerald  | jade  | amethyst  | iolite  | \n",
      "| canyon  | 6.04 (3.18)  | 10.11 (6.07)  | 5.56 (2.96)  | 5.82 (1.90)  | 5.39 (3.65)  | 9.58 (9.35)  | 9.91 (7.53)  | 9.53 (9.62)  | 10.36 (4.55)  | 10.18 (5.20)  | \n",
      "| forest  | 6.12 (1.15)  | 8.82 (5.51)  | 5.59 (1.34)  | 5.32 (2.12)  | 5.59 (1.40)  | 8.98 (4.67)  | 8.96 (5.17)  | 9.11 (4.47)  | 9.31 (2.49)  | 8.72 (7.95)  | \n",
      "| sandbox  | 5.85 (0.58)  | 9.80 (0.82)  | 5.41 (0.53)  | 5.25 (0.56)  | 5.31 (0.46)  | 9.56 (0.83)  | 9.77 (1.05)  | 9.57 (2.74)  | 9.90 (0.87)  | 9.90 (1.18)  | \n"
     ]
    }
   ],
   "source": [
    "# print result table wise\n",
    "# Print results in md table format\n",
    "msg=\"| \"\n",
    "for r in sorted(results.keys()):\n",
    "#     print r\n",
    "    msg=\"{0} | {1} \".format(msg, results[r]['machines'][0])\n",
    "print msg,\"| \"\n",
    "for w in \"canyon\", \"forest\", \"sandbox\":\n",
    "    msg=\"| \"+w+\" \"\n",
    "    for r in sorted(results.keys()):\n",
    "    #     print r\n",
    "        msg=\"{0} | {1:0.2f} ({2:0.2f}) \".format(msg, np.mean(results[r]['mean'][w]), np.var(results[r]['mean'][w]))\n",
    "    print msg,\"| \"\n"
   ]
  }
 ],
 "metadata": {
  "kernelspec": {
   "display_name": "Python 2",
   "language": "python",
   "name": "python2"
  },
  "language_info": {
   "codemirror_mode": {
    "name": "ipython",
    "version": 2
   },
   "file_extension": ".py",
   "mimetype": "text/x-python",
   "name": "python",
   "nbconvert_exporter": "python",
   "pygments_lexer": "ipython2",
   "version": "2.7.15"
  }
 },
 "nbformat": 4,
 "nbformat_minor": 2
}
