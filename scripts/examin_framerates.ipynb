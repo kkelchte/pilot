{
 "cells": [
  {
   "cell_type": "code",
   "execution_count": 1,
   "metadata": {},
   "outputs": [],
   "source": [
    "import numpy as np\n",
    "import os,sys,time\n",
    "import matplotlib.pyplot as plt"
   ]
  },
  {
   "cell_type": "code",
   "execution_count": 147,
   "metadata": {},
   "outputs": [
    {
     "name": "stdout",
     "output_type": "stream",
     "text": [
      "log_dirs: \n",
      "/esat/opal/kkelchte/docker_home/tensorflow/log/rec_20_1\n",
      "/esat/opal/kkelchte/docker_home/tensorflow/log/rec_20_2\n",
      "/esat/opal/kkelchte/docker_home/tensorflow/log/rec_20_3\n",
      "/esat/opal/kkelchte/docker_home/tensorflow/log/rec_20_4\n",
      "/esat/opal/kkelchte/docker_home/tensorflow/log/rec_20_5\n",
      "/esat/opal/kkelchte/docker_home/tensorflow/log/rec_20_6\n",
      "/esat/opal/kkelchte/docker_home/tensorflow/log/rec_20_7\n",
      "data_dirs: \n",
      "/esat/opal/kkelchte/docker_home/pilot_data/rec_20_1\n",
      "/esat/opal/kkelchte/docker_home/pilot_data/rec_20_2\n",
      "/esat/opal/kkelchte/docker_home/pilot_data/rec_20_3\n",
      "/esat/opal/kkelchte/docker_home/pilot_data/rec_20_4\n",
      "/esat/opal/kkelchte/docker_home/pilot_data/rec_20_5\n",
      "/esat/opal/kkelchte/docker_home/pilot_data/rec_20_6\n",
      "/esat/opal/kkelchte/docker_home/pilot_data/rec_20_7\n"
     ]
    }
   ],
   "source": [
    "root_dir='/esat/opal/kkelchte/docker_home/tensorflow/log'\n",
    "data_dir='/esat/opal/kkelchte/docker_home/pilot_data'\n",
    "##### 20FPS\n",
    "# log_dirs=sorted([root_dir+'/'+d for d in os.listdir(root_dir) if d.startswith('rec_') and not '_10_' in d])\n",
    "# data_dirs=sorted([data_dir+'/'+d for d in os.listdir(data_dir) if d.startswith('rec_') and not '_10_' in d])\n",
    "\n",
    "# log_dirs=[l for dd in data_dirs for l in log_dirs if os.path.basename(l) in dd ]\n",
    "# log_dirs = log_dirs[1:]\n",
    "# print \"log_dirs: \"\n",
    "# for ld in log_dirs: print ld\n",
    "# print \"data_dirs: \"\n",
    "# for dd in data_dirs: print dd\n",
    "##### 10FPS\n",
    "# log_dirs=sorted([root_dir+'/'+d for d in os.listdir(root_dir) if d.startswith('rec_10_')])\n",
    "# data_dirs=sorted([data_dir+'/'+d for d in os.listdir(data_dir) if d.startswith('rec_10_')])\n",
    "\n",
    "# log_dirs=[l for dd in data_dirs for l in log_dirs if os.path.basename(l) in dd ]\n",
    "# print \"log_dirs: \"\n",
    "# for ld in log_dirs: print ld\n",
    "# print \"data_dirs: \"\n",
    "# for dd in data_dirs: print dd\n",
    "\n",
    "##### 20FPS\n",
    "log_dirs=sorted([root_dir+'/'+d for d in os.listdir(root_dir) if d.startswith('rec_20_')])\n",
    "data_dirs=sorted([data_dir+'/'+d for d in os.listdir(data_dir) if d.startswith('rec_20_')])\n",
    "\n",
    "log_dirs=[l for dd in data_dirs for l in log_dirs if os.path.basename(l) in dd ]\n",
    "print \"log_dirs: \"\n",
    "for ld in log_dirs: print ld\n",
    "print \"data_dirs: \"\n",
    "for dd in data_dirs: print dd\n",
    "\n",
    "assert len(log_dirs) == len(data_dirs)"
   ]
  },
  {
   "cell_type": "code",
   "execution_count": 148,
   "metadata": {
    "scrolled": true
   },
   "outputs": [
    {
     "name": "stdout",
     "output_type": "stream",
     "text": [
      "rec_20_1\n",
      "spinel\n",
      "rec_20_2\n",
      "pyrite\n",
      "rec_20_3\n",
      "topaz\n",
      "rec_20_4\n",
      "realgar\n",
      "rec_20_5\n",
      "ena\n",
      "rec_20_6\n",
      "asahi\n",
      "rec_20_7\n",
      "estragon\n"
     ]
    }
   ],
   "source": [
    "# extract frame rates for each run of each log dir\n",
    "results={}\n",
    "for index,dd in enumerate(data_dirs):\n",
    "    print os.path.basename(dd)\n",
    "    # extract hosts:\n",
    "    import subprocess, shlex\n",
    "    log_files=[log_dirs[index]+'/condor/'+f for f in os.listdir(log_dirs[index]+'/condor/') if f.endswith('log')]\n",
    "    host_list=[l.split(' ')[8].split(':')[0][1:] for l in open(log_files[0],'r').readlines() if 'executing on host' in l]\n",
    "    host_names=[]\n",
    "    for host in host_list: host_names.append(subprocess.check_output(shlex.split('host '+host)).split(' ')[4].split('.')[0])\n",
    "    for h in host_names: print h\n",
    "    image_files=sorted([dd+'/'+d+'/images.txt' for d in os.listdir(dd) if os.path.isdir(dd+'/'+d) and d.startswith('0')])\n",
    "    mean={'canyon':[],'forest':[],'sandbox':[],'total':[]}\n",
    "    var={'canyon':[],'forest':[],'sandbox':[],'total':[]}\n",
    "    for i_f in image_files:\n",
    "        try:\n",
    "            # i_f=image_files[0]\n",
    "#             print(i_f)\n",
    "            time_stamps= [ float(l.split(' ')[0].split(':')[0][:-1])+float(l.split(' ')[0].split(':')[1][:-2])*10**-9 for l in open(i_f,'r').readlines() if 'RGB' in l]\n",
    "            frame_rates = [1/(time_stamps[i+1]-time_stamps[i]+0.01) if time_stamps[i] != time_stamps[i+1] else np.nan for i in range(len(time_stamps)-1)]\n",
    "            if 'canyon' in i_f:\n",
    "                mean['canyon'].append(np.nanmean(frame_rates))\n",
    "                var['canyon'].append(np.nanvar(frame_rates))\n",
    "            elif 'sandbox' in i_f:\n",
    "                mean['sandbox'].append(np.nanmean(frame_rates))\n",
    "                var['sandbox'].append(np.nanvar(frame_rates))\n",
    "            elif 'forest' in i_f:\n",
    "                mean['forest'].append(np.nanmean(frame_rates))\n",
    "                var['forest'].append(np.nanvar(frame_rates))\n",
    "            mean['total'].append(np.nanmean(frame_rates))\n",
    "            var['total'].append(np.nanvar(frame_rates))\n",
    "#             plt.subplot(1,2,1)\n",
    "#             plt.hist(frame_rates)\n",
    "#             plt.subplot(1,2,2)\n",
    "#             plt.plot(frame_rates)\n",
    "#             plt.show()\n",
    "        except:\n",
    "            pass\n",
    "    results[os.path.basename(dd)]={'machines': host_names, 'mean':mean, 'var': var}"
   ]
  },
  {
   "cell_type": "code",
   "execution_count": 149,
   "metadata": {
    "scrolled": false
   },
   "outputs": [
    {
     "name": "stdout",
     "output_type": "stream",
     "text": [
      " | spinel  | pyrite  | topaz  | realgar  | ena  | asahi  | estragon  | \n",
      "canyon  | 14.05 (7.56)  | 15.53 (10.19)  | 14.08 (7.40)  | 14.50 (7.76)  | 16.92 (9.60)  | 16.98 (9.71)  | nan (nan)  | \n",
      "forest  | 13.50 (8.53)  | 14.50 (11.46)  | 13.35 (8.43)  | 13.80 (10.04)  | 16.32 (11.31)  | 16.49 (11.63)  | nan (nan)  | \n",
      "sandbox  | 13.85 (9.57)  | 15.50 (20.18)  | 13.36 (8.66)  | 14.34 (11.78)  | 17.20 (16.36)  | 15.71 (13.58)  | nan (nan)  | \n",
      "total  | 13.81 (8.53)  | 15.20 (13.65)  | 13.60 (8.16)  | 14.22 (9.80)  | 16.81 (12.42)  | 16.44 (11.50)  | nan (nan)  | \n"
     ]
    },
    {
     "name": "stderr",
     "output_type": "stream",
     "text": [
      "/users/visics/kkelchte/tensorflow/lib/python2.7/site-packages/ipykernel_launcher.py:11: RuntimeWarning: Mean of empty slice\n",
      "  # This is added back by InteractiveShellApp.init_path()\n"
     ]
    }
   ],
   "source": [
    "# Print results in md table format\n",
    "msg=\"\"\n",
    "for r in sorted(results.keys()):\n",
    "#     print r\n",
    "    msg=\"{0} | {1} \".format(msg, results[r]['machines'][0])\n",
    "print msg,\"| \"\n",
    "for w in \"canyon\", \"forest\", \"sandbox\", \"total\":\n",
    "    msg=w+\" \"\n",
    "    for r in sorted(results.keys()):\n",
    "    #     print r\n",
    "        msg=\"{0} | {1:0.2f} ({2:0.2f}) \".format(msg, np.nanmean(results[r]['mean'][w]), np.nanmean(results[r]['var'][w]))\n",
    "    print msg,\"| \"\n"
   ]
  },
  {
   "cell_type": "code",
   "execution_count": 150,
   "metadata": {
    "scrolled": false
   },
   "outputs": [
    {
     "name": "stderr",
     "output_type": "stream",
     "text": [
      "/users/visics/kkelchte/tensorflow/lib/python2.7/site-packages/numpy/core/fromnumeric.py:2957: RuntimeWarning: Mean of empty slice.\n",
      "  out=out, **kwargs)\n",
      "/users/visics/kkelchte/tensorflow/lib/python2.7/site-packages/numpy/core/_methods.py:80: RuntimeWarning: invalid value encountered in double_scalars\n",
      "  ret = ret.dtype.type(ret / rcount)\n"
     ]
    },
    {
     "data": {
      "image/png": "[encoded data removed]",
      "text/plain": [
       "<Figure size 1080x1440 with 2 Axes>"
      ]
     },
     "metadata": {},
     "output_type": "display_data"
    },
    {
     "data": {
      "image/png": "[encoded data removed]",
      "text/plain": [
       "<Figure size 1080x1440 with 2 Axes>"
      ]
     },
     "metadata": {},
     "output_type": "display_data"
    },
    {
     "data": {
      "image/png": "[encoded data removed]",
      "text/plain": [
       "<Figure size 1080x1440 with 2 Axes>"
      ]
     },
     "metadata": {},
     "output_type": "display_data"
    },
    {
     "data": {
      "image/png": "[encoded data removed]",
      "text/plain": [
       "<Figure size 1080x1440 with 2 Axes>"
      ]
     },
     "metadata": {},
     "output_type": "display_data"
    }
   ],
   "source": [
    "for i,w in enumerate([\"canyon\", \"forest\", \"sandbox\", \"total\"]):\n",
    "    plt.figure(figsize=(15,20))\n",
    "    plt.subplot(8,2,i*2+1)\n",
    "    plt.ylim=(0,40)\n",
    "    plt.bar([results[r]['machines'][0] for r in sorted(results.keys())],\n",
    "           [np.mean(results[r]['mean'][w]) for r in sorted(results.keys())])\n",
    "    plt.subplot(8,2,i*2+2)\n",
    "    plt.ylim=(0,500)\n",
    "    plt.bar([results[r]['machines'][0] for r in sorted(results.keys())],\n",
    "           [np.mean(results[r]['var'][w]) for r in sorted(results.keys())])\n",
    "    \n",
    "\n",
    "plt.show()"
   ]
  },
  {
   "cell_type": "code",
   "execution_count": 151,
   "metadata": {},
   "outputs": [
    {
     "name": "stdout",
     "output_type": "stream",
     "text": [
      "rec_20_1\n",
      "spinel\n",
      "rec_20_2\n",
      "pyrite\n",
      "rec_20_3\n",
      "topaz\n",
      "rec_20_4\n",
      "realgar\n",
      "rec_20_5\n",
      "ena\n",
      "rec_20_6\n",
      "asahi\n",
      "rec_20_7\n",
      "estragon\n"
     ]
    }
   ],
   "source": [
    "results={}\n",
    "# Extract frame rate by counting the average number of images saved for each environment\n",
    "for index,dd in enumerate(data_dirs):\n",
    "    print os.path.basename(dd)\n",
    "    # extract hosts:\n",
    "    import subprocess, shlex\n",
    "    log_files=[log_dirs[index]+'/condor/'+f for f in os.listdir(log_dirs[index]+'/condor/') if f.endswith('log')]\n",
    "    host_list=[l.split(' ')[8].split(':')[0][1:] for l in open(log_files[0],'r').readlines() if 'executing on host' in l]\n",
    "    host_names=[]\n",
    "    for host in host_list: host_names.append(subprocess.check_output(shlex.split('host '+host)).split(' ')[4].split('.')[0])\n",
    "    for h in host_names: print h\n",
    "    mean={'canyon':[],'forest':[],'sandbox':[]}\n",
    "#     duration={'canyon':[],'forest':[],'sandbox':[]}\n",
    "    run_dirs=[dd+'/'+rd for rd in os.listdir(dd) if rd.startswith('0')]\n",
    "    for rd in run_dirs:\n",
    "        try:\n",
    "            begin=os.path.getmtime(rd+'/RGB/'+sorted(os.listdir(rd+'/RGB'))[0])\n",
    "            end=os.path.getmtime(rd+'/RGB/'+sorted(os.listdir(rd+'/RGB'))[-1])\n",
    "            if 'canyon' in rd:\n",
    "                mean['canyon'].append(len(os.listdir(rd+'/RGB'))/(end-begin))\n",
    "#                 duration['canyon'].append(end-begin)\n",
    "            elif 'sandbox' in rd:\n",
    "                mean['sandbox'].append(len(os.listdir(rd+'/RGB'))/(end-begin))\n",
    "#                 duration['sandbox'].append(end-begin)\n",
    "            elif 'forest' in rd:\n",
    "                mean['forest'].append(len(os.listdir(rd+'/RGB'))/(end-begin))\n",
    "#                 duration['forest'].append(end-begin)\n",
    "        except:\n",
    "            pass\n",
    "    results[os.path.basename(dd)]={'machines': host_names, 'mean':mean}"
   ]
  },
  {
   "cell_type": "code",
   "execution_count": null,
   "metadata": {},
   "outputs": [],
   "source": []
  },
  {
   "cell_type": "code",
   "execution_count": 152,
   "metadata": {},
   "outputs": [
    {
     "name": "stdout",
     "output_type": "stream",
     "text": [
      "|  | spinel  | pyrite  | topaz  | realgar  | ena  | asahi  | estragon  | \n",
      "| canyon  | 15.27 (0.09)  | 16.94 (0.05)  | 15.31 (0.06)  | 15.94 (0.06)  | 19.13 (0.03)  | 19.22 (0.01)  | nan (nan)  | \n",
      "| forest  | 14.22 (0.39)  | 15.04 (0.91)  | 14.16 (0.47)  | 14.74 (0.41)  | 18.00 (0.08)  | 18.20 (0.06)  | nan (nan)  | \n",
      "| sandbox  | 14.79 (1.41)  | 16.17 (1.97)  | 14.16 (1.73)  | 15.24 (2.44)  | 18.93 (0.25)  | 17.06 (1.52)  | nan (nan)  | \n"
     ]
    },
    {
     "name": "stderr",
     "output_type": "stream",
     "text": [
      "/users/visics/kkelchte/tensorflow/lib/python2.7/site-packages/numpy/core/fromnumeric.py:3194: RuntimeWarning: Degrees of freedom <= 0 for slice\n",
      "  **kwargs)\n",
      "/users/visics/kkelchte/tensorflow/lib/python2.7/site-packages/numpy/core/_methods.py:105: RuntimeWarning: invalid value encountered in true_divide\n",
      "  arrmean, rcount, out=arrmean, casting='unsafe', subok=False)\n",
      "/users/visics/kkelchte/tensorflow/lib/python2.7/site-packages/numpy/core/_methods.py:127: RuntimeWarning: invalid value encountered in double_scalars\n",
      "  ret = ret.dtype.type(ret / rcount)\n"
     ]
    }
   ],
   "source": [
    "# print result table wise\n",
    "# Print results in md table format\n",
    "msg=\"| \"\n",
    "for r in sorted(results.keys()):\n",
    "#     print r\n",
    "    msg=\"{0} | {1} \".format(msg, results[r]['machines'][0])\n",
    "print msg,\"| \"\n",
    "for w in \"canyon\", \"forest\", \"sandbox\":\n",
    "    msg=\"| \"+w+\" \"\n",
    "    for r in sorted(results.keys()):\n",
    "    #     print r\n",
    "        msg=\"{0} | {1:0.2f} ({2:0.2f}) \".format(msg, np.mean(results[r]['mean'][w]), np.var(results[r]['mean'][w]))\n",
    "    print msg,\"| \"\n"
   ]
  }
 ],
 "metadata": {
  "kernelspec": {
   "display_name": "Python 2",
   "language": "python",
   "name": "python2"
  },
  "language_info": {
   "codemirror_mode": {
    "name": "ipython",
    "version": 2
   },
   "file_extension": ".py",
   "mimetype": "text/x-python",
   "name": "python",
   "nbconvert_exporter": "python",
   "pygments_lexer": "ipython2",
   "version": "2.7.15"
  }
 },
 "nbformat": 4,
 "nbformat_minor": 2
}
